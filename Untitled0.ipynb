{
  "cells": [
    {
      "cell_type": "markdown",
      "metadata": {
        "id": "view-in-github",
        "colab_type": "text"
      },
      "source": [
        "<a href=\"https://colab.research.google.com/github/CallMeSoumya2063/GColab-backups/blob/main/Untitled0.ipynb\" target=\"_parent\"><img src=\"https://colab.research.google.com/assets/colab-badge.svg\" alt=\"Open In Colab\"/></a>"
      ]
    },
    {
      "cell_type": "code",
      "execution_count": null,
      "metadata": {
        "colab": {
          "base_uri": "https://localhost:8080/"
        },
        "id": "umqvTttDyjoB",
        "outputId": "0dd7a00e-3fdf-413b-c4b4-249b3cc141b4"
      },
      "outputs": [
        {
          "output_type": "stream",
          "name": "stdout",
          "text": [
            "Reading package lists... Done\n",
            "Building dependency tree... Done\n",
            "Reading state information... Done\n",
            "zip is already the newest version (3.0-12build2).\n",
            "The following additional packages will be installed:\n",
            "  libjq1 libonig5\n",
            "The following NEW packages will be installed:\n",
            "  jq libjq1 libonig5\n",
            "0 upgraded, 3 newly installed, 0 to remove and 49 not upgraded.\n",
            "Need to get 357 kB of archives.\n",
            "After this operation, 1,087 kB of additional disk space will be used.\n",
            "Get:1 http://archive.ubuntu.com/ubuntu jammy/main amd64 libonig5 amd64 6.9.7.1-2build1 [172 kB]\n",
            "Get:2 http://archive.ubuntu.com/ubuntu jammy/main amd64 libjq1 amd64 1.6-2.1ubuntu3 [133 kB]\n",
            "Get:3 http://archive.ubuntu.com/ubuntu jammy/main amd64 jq amd64 1.6-2.1ubuntu3 [52.5 kB]\n",
            "Fetched 357 kB in 1s (487 kB/s)\n",
            "Selecting previously unselected package libonig5:amd64.\n",
            "(Reading database ... 123597 files and directories currently installed.)\n",
            "Preparing to unpack .../libonig5_6.9.7.1-2build1_amd64.deb ...\n",
            "Unpacking libonig5:amd64 (6.9.7.1-2build1) ...\n",
            "Selecting previously unselected package libjq1:amd64.\n",
            "Preparing to unpack .../libjq1_1.6-2.1ubuntu3_amd64.deb ...\n",
            "Unpacking libjq1:amd64 (1.6-2.1ubuntu3) ...\n",
            "Selecting previously unselected package jq.\n",
            "Preparing to unpack .../jq_1.6-2.1ubuntu3_amd64.deb ...\n",
            "Unpacking jq (1.6-2.1ubuntu3) ...\n",
            "Setting up libonig5:amd64 (6.9.7.1-2build1) ...\n",
            "Setting up libjq1:amd64 (1.6-2.1ubuntu3) ...\n",
            "Setting up jq (1.6-2.1ubuntu3) ...\n",
            "Processing triggers for man-db (2.10.2-1) ...\n",
            "Processing triggers for libc-bin (2.35-0ubuntu3.4) ...\n",
            "/sbin/ldconfig.real: /usr/local/lib/libur_loader.so.0 is not a symbolic link\n",
            "\n",
            "/sbin/ldconfig.real: /usr/local/lib/libtbbmalloc_proxy.so.2 is not a symbolic link\n",
            "\n",
            "/sbin/ldconfig.real: /usr/local/lib/libtbbbind.so.3 is not a symbolic link\n",
            "\n",
            "/sbin/ldconfig.real: /usr/local/lib/libtbbbind_2_0.so.3 is not a symbolic link\n",
            "\n",
            "/sbin/ldconfig.real: /usr/local/lib/libur_adapter_level_zero.so.0 is not a symbolic link\n",
            "\n",
            "/sbin/ldconfig.real: /usr/local/lib/libtbbmalloc.so.2 is not a symbolic link\n",
            "\n",
            "/sbin/ldconfig.real: /usr/local/lib/libtbb.so.12 is not a symbolic link\n",
            "\n",
            "/sbin/ldconfig.real: /usr/local/lib/libur_adapter_opencl.so.0 is not a symbolic link\n",
            "\n",
            "/sbin/ldconfig.real: /usr/local/lib/libtbbbind_2_5.so.3 is not a symbolic link\n",
            "\n",
            "\n",
            "Download URLs:\n",
            "https://small.fileditchstuff.me/s16/JorUVdLsnQpoPzMHmAA.zip\n",
            "https://small.fileditchstuff.me/s16/nVMUXaAjVmkJhSomyeph.zip\n"
          ]
        }
      ],
      "source": [
        "# Step 1: Ensure zip and jq are installed\n",
        "!apt-get install -y zip jq\n",
        "\n",
        "import os\n",
        "import subprocess\n",
        "import json\n",
        "\n",
        "# Step 2: Define a function to handle the process\n",
        "def process_file(url):\n",
        "    # Extract the filename from the URL\n",
        "    url_without_hash = url.split('?')[0]  # Strip the hash part\n",
        "    file_name = url_without_hash.split('/')[-1]  # Extract the filename\n",
        "\n",
        "    # Download the file using curl with the -L flag to follow redirects and -o to save with the filename\n",
        "    subprocess.run(['curl', '-L', '-o', file_name, url], check=True)\n",
        "\n",
        "    # Compress the downloaded file into a zip archive\n",
        "    archive_name = file_name + '.zip'\n",
        "    subprocess.run(['zip', archive_name, file_name], check=True)\n",
        "\n",
        "    # Remove the original downloaded file after compression\n",
        "    os.remove(file_name)\n",
        "\n",
        "    # Upload the compressed file using curl and capture the output\n",
        "    curl_output = subprocess.run(\n",
        "        ['curl', '-i', '-F', f'files[]=@{archive_name}', 'https://up1.fileditch.com/upload.php'],\n",
        "        stdout=subprocess.PIPE,\n",
        "        check=True\n",
        "    ).stdout.decode('utf-8')\n",
        "\n",
        "    # Parse the output to extract JSON\n",
        "    try:\n",
        "        json_start = curl_output.index('{')\n",
        "        json_output = curl_output[json_start:]\n",
        "        response_json = json.loads(json_output)\n",
        "    except ValueError:\n",
        "        print(\"Error parsing JSON response.\")\n",
        "        # Remove the archive file if JSON parsing fails\n",
        "        os.remove(archive_name)\n",
        "        return None\n",
        "\n",
        "    # Extract the URL from the JSON response\n",
        "    if response_json.get('success'):\n",
        "        file_info = response_json['files'][0]\n",
        "        # Remove backslashes and quotation marks\n",
        "        download_url = file_info['url'].replace('\\\\', '')\n",
        "        # Remove the archive file after successful upload\n",
        "        os.remove(archive_name)\n",
        "        return download_url\n",
        "    else:\n",
        "        print(\"Upload failed.\")\n",
        "        # Remove the archive file if upload fails\n",
        "        os.remove(archive_name)\n",
        "        return None\n",
        "\n",
        "# Step 3: Prompt the user for multiple links\n",
        "input_links = input(\"Enter URLs separated by space: \").split()\n",
        "\n",
        "# List to store the download URLs\n",
        "download_urls = []\n",
        "\n",
        "# Step 4: Process each URL\n",
        "for link in input_links:\n",
        "    url = process_file(link)\n",
        "    if url:\n",
        "        download_urls.append(url)\n",
        "\n",
        "# Step 5: Display the collected URLs\n",
        "print(\"\\nDownload URLs:\")\n",
        "for url in download_urls:\n",
        "    print(url)"
      ]
    },
    {
      "cell_type": "code",
      "source": [
        "!curl -L -o apk1.zip https://small.fileditchstuff.me/s16/JorUVdLsnQpoPzMHmAA.zip && unzip apk1.zip && curl -L -o apk2.zip https://small.fileditchstuff.me/s16/nVMUXaAjVmkJhSomyeph.zip && unzip apk2.zip && ls && rm -rf *"
      ],
      "metadata": {
        "colab": {
          "base_uri": "https://localhost:8080/"
        },
        "id": "pOJeIwucX_-J",
        "outputId": "3bfd3657-3a83-482a-ce9f-76ed280b4b78"
      },
      "execution_count": null,
      "outputs": [
        {
          "output_type": "stream",
          "name": "stdout",
          "text": [
            "  % Total    % Received % Xferd  Average Speed   Time    Time     Time  Current\n",
            "                                 Dload  Upload   Total   Spent    Left  Speed\n",
            "100  214M  100  214M    0     0  32.0M      0  0:00:06  0:00:06 --:--:-- 32.5M\n",
            "Archive:  apk1.zip\n",
            "  inflating: 1.21.22.01-64bit-patch-modded.apk  \n",
            "  % Total    % Received % Xferd  Average Speed   Time    Time     Time  Current\n",
            "                                 Dload  Upload   Total   Spent    Left  Speed\n",
            "100  204M  100  204M    0     0  31.6M      0  0:00:06  0:00:06 --:--:-- 31.3M\n",
            "Archive:  apk2.zip\n",
            "  inflating: 1.21.22.01-32bit-patch-modded.apk  \n",
            "1.21.22.01-32bit-patch-modded.apk  apk1.zip  sample_data\n",
            "1.21.22.01-64bit-patch-modded.apk  apk2.zip\n"
          ]
        }
      ]
    }
  ],
  "metadata": {
    "colab": {
      "provenance": [],
      "authorship_tag": "ABX9TyPRpnGV4khPoVmeL8Gc2hGk",
      "include_colab_link": true
    },
    "kernelspec": {
      "display_name": "Python 3",
      "name": "python3"
    },
    "language_info": {
      "name": "python"
    }
  },
  "nbformat": 4,
  "nbformat_minor": 0
}